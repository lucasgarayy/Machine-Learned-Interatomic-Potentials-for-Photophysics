{
 "cells": [
  {
   "cell_type": "code",
   "execution_count": null,
   "id": "f5af689c",
   "metadata": {},
   "outputs": [],
   "source": [
    "import mace\n",
    "import glob\n",
    "import os\n",
    "import torch\n",
    "import warnings\n",
    "warnings.filterwarnings(\"ignore\")\n",
    "from mace.cli.run_train import main as mace_run_train_main\n",
    "import sys\n",
    "import logging"
   ]
  },
  {
   "cell_type": "code",
   "execution_count": null,
   "id": "339c0a13",
   "metadata": {},
   "outputs": [],
   "source": [
    "device = torch.device(\"cuda\" if torch.cuda.is_available() else \"cpu\")\n",
    "if torch.cuda.is_available():\n",
    "    print('Using GPU')"
   ]
  },
  {
   "cell_type": "code",
   "execution_count": 1,
   "id": "e29e90cc",
   "metadata": {},
   "outputs": [
    {
     "name": "stdout",
     "output_type": "stream",
     "text": [
      "Writing mace-suite/runs/thymine/combined/config.yml\n"
     ]
    }
   ],
   "source": [
    "%%writefile mace-suite/runs/thymine/combined/config.yml\n",
    "model: 'MACE'\n",
    "foundation_model: 'mace-suite/foundation_model/MACE-OFF23_medium.model'\n",
    "multiheads_finetuning: True\n",
    "name: 'thymine_md'\n",
    "model_dir: 'mace-suite/runs/thymine/combined/models'\n",
    "log_dir: 'mace-suite/runs/thymine/combined/logs'\n",
    "results_dir: 'mace-suite/runs/thymine/combined/results'\n",
    "device: cuda\n",
    "heads:\n",
    "  spin_flip_es1:\n",
    "    train_file: 'mace-suite/data/processed_datasets/thymine/combined/train_es1.xyz'\n",
    "    valid_file : 'mace-suite/data/processed_datasets/thymine/combined/validation_es1.xyz'\n",
    "    energy_key: 'REF_energy'\n",
    "    forces_key: 'REF_forces'\n",
    "    E0s: 'isolated'\n",
    "  spin_flip_es2:\n",
    "    train_file: 'mace-suite/data/processed_datasets/thymine/combined/train_es2.xyz'\n",
    "    valid_file : 'mace-suite/data/processed_datasets/thymine/combined/validation_es2.xyz'\n",
    "    energy_key: 'REF_energy'\n",
    "    forces_key: 'REF_forces'\n",
    "    E0s: 'isolated'\n",
    "\n",
    "pt_train_file: 'mace-suite/data/pretrained_datasets/cleaned/cleaned_pt_train.xyz'\n",
    "max_num_epochs: 700\n",
    "start_swa: 475\n",
    "batch_size: 5\n",
    "seed: 42"
   ]
  },
  {
   "cell_type": "code",
   "execution_count": null,
   "id": "590927f3",
   "metadata": {},
   "outputs": [],
   "source": [
    "def train_mace(config_file_path):\n",
    "    logging.getLogger().handlers.clear()\n",
    "    sys.argv = [\"program\", \"--config\", config_file_path]\n",
    "    mace_run_train_main()"
   ]
  },
  {
   "cell_type": "code",
   "execution_count": null,
   "id": "84149d25",
   "metadata": {},
   "outputs": [],
   "source": [
    "train_mace('mace-suite/runs/thymine/combined/config.yml')"
   ]
  },
  {
   "cell_type": "code",
   "execution_count": null,
   "id": "4ae9ac1f",
   "metadata": {},
   "outputs": [],
   "source": [
    "for file in glob.glob(\"mace-suite/runs/thymine/combined/models/*.pt\"):\n",
    "    os.remove(file)"
   ]
  }
 ],
 "metadata": {
  "kernelspec": {
   "display_name": ".venv",
   "language": "python",
   "name": "python3"
  },
  "language_info": {
   "codemirror_mode": {
    "name": "ipython",
    "version": 3
   },
   "file_extension": ".py",
   "mimetype": "text/x-python",
   "name": "python",
   "nbconvert_exporter": "python",
   "pygments_lexer": "ipython3",
   "version": "3.11.0"
  }
 },
 "nbformat": 4,
 "nbformat_minor": 5
}
