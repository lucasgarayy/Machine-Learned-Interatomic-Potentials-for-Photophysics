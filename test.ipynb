{
 "cells": [
  {
   "cell_type": "code",
   "execution_count": 1,
   "id": "bf320e87",
   "metadata": {},
   "outputs": [
    {
     "name": "stdout",
     "output_type": "stream",
     "text": [
      "torch: 2.8.0+cu128\n",
      "built with CUDA: 12.8\n",
      "cuda available: True\n",
      "device count: 1\n",
      "current device: 0\n",
      "device name 0: NVIDIA GeForce RTX 4070 Laptop GPU\n",
      "python: c:\\Users\\lucas\\Machine-Learned Interatomic Potentials for Photophysics\\.venv\\Scripts\\python.exe\n"
     ]
    }
   ],
   "source": [
    "import torch, sys\n",
    "print(\"torch:\", torch.__version__)\n",
    "print(\"built with CUDA:\", torch.version.cuda)\n",
    "print(\"cuda available:\", torch.cuda.is_available())\n",
    "print(\"device count:\", torch.cuda.device_count())\n",
    "print(\"current device:\", torch.cuda.current_device() if torch.cuda.is_available() else None)\n",
    "print(\"device name 0:\", torch.cuda.get_device_name(0) if torch.cuda.is_available() else None)\n",
    "print(\"python:\", sys.executable)\n"
   ]
  },
  {
   "cell_type": "code",
   "execution_count": null,
   "id": "44fb9f4b",
   "metadata": {},
   "outputs": [],
   "source": []
  }
 ],
 "metadata": {
  "kernelspec": {
   "display_name": ".venv",
   "language": "python",
   "name": "python3"
  },
  "language_info": {
   "codemirror_mode": {
    "name": "ipython",
    "version": 3
   },
   "file_extension": ".py",
   "mimetype": "text/x-python",
   "name": "python",
   "nbconvert_exporter": "python",
   "pygments_lexer": "ipython3",
   "version": "3.11.0"
  }
 },
 "nbformat": 4,
 "nbformat_minor": 5
}
